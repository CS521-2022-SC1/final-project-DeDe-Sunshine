{
 "cells": [
  {
   "cell_type": "markdown",
   "id": "ec5c7a51",
   "metadata": {},
   "source": [
    "Final Project \n",
    "\n",
    "Name: Diana Chiang, No collaborators, Sources: Stackoverflow and resources from CS542 Professor Bargal's class.  No Extension "
   ]
  },
  {
   "cell_type": "markdown",
   "id": "ae672534",
   "metadata": {},
   "source": [
    "importing data and labels.  folder name is the label"
   ]
  },
  {
   "cell_type": "code",
   "execution_count": 9,
   "id": "ba16b620",
   "metadata": {},
   "outputs": [
    {
     "name": "stdout",
     "output_type": "stream",
     "text": [
      ".DS_Store\n",
      "pneumonia_vir\n",
      "normal\n",
      "covid\n",
      "pneumonia_bac\n"
     ]
    }
   ],
   "source": [
    "import os\n",
    "\n",
    "#import training data \n",
    "all_path = '/Users/diana/Documents/SUMMER2022/final-project-DeDe-Sunshine/all/train'\n",
    "root = os.listdir(all_path)\n",
    "\n",
    "for entry in root:\n",
    "    print(entry)\n",
    "    subdir_path = os.path.join(all_path, entry) #  create the absolute path of the subdir\n",
    "    if os.path.isdir(subdir_path):  # check if it is a folder\n",
    "        subdir_entries = os.listdir(subdir_path)  # get the content of the subdir\n",
    "        for subentry in subdir_entries:\n",
    "            subentry_path = os.path.join(subdir_path, subentry)  # absolute path of the subentry\n",
    "            # here you can check everything you want for example if the subentry has a specific name etc\n",
    "            #print(subentry_path)\n",
    "            #print(subdir_path)\n",
    "#\n"
   ]
  },
  {
   "cell_type": "code",
   "execution_count": null,
   "id": "684d2867",
   "metadata": {},
   "outputs": [],
   "source": []
  },
  {
   "cell_type": "code",
   "execution_count": 2,
   "id": "8b5e8cdd",
   "metadata": {},
   "outputs": [
    {
     "data": {
      "text/plain": [
       "'/Users/diana/Documents/SUMMER2022/final-project-DeDe-Sunshine'"
      ]
     },
     "execution_count": 2,
     "metadata": {},
     "output_type": "execute_result"
    }
   ],
   "source": [
    "pwd"
   ]
  }
 ],
 "metadata": {
  "kernelspec": {
   "display_name": "Python 3 (ipykernel)",
   "language": "python",
   "name": "python3"
  },
  "language_info": {
   "codemirror_mode": {
    "name": "ipython",
    "version": 3
   },
   "file_extension": ".py",
   "mimetype": "text/x-python",
   "name": "python",
   "nbconvert_exporter": "python",
   "pygments_lexer": "ipython3",
   "version": "3.10.0"
  }
 },
 "nbformat": 4,
 "nbformat_minor": 5
}
