{
 "cells": [
  {
   "cell_type": "markdown",
   "id": "ec5c7a51",
   "metadata": {},
   "source": [
    "Final Project \n",
    "\n",
    "Chest Xray classification\n",
    "\n",
    "Tasks   1. load data\n",
    "        2. separate lobes\n",
    "        3. data augmentatiom\n",
    "        4. Select a transfer learning network\n",
    "        5. augment last classification\n",
    "        6. run model\n",
    "        7. analysis PCA\n",
    "        "
   ]
  },
  {
   "cell_type": "markdown",
   "id": "ae672534",
   "metadata": {},
   "source": [
    "importing data and labels.  folder name is the label"
   ]
  },
  {
   "cell_type": "code",
   "execution_count": 9,
   "id": "ba16b620",
   "metadata": {},
   "outputs": [
    {
     "name": "stdout",
     "output_type": "stream",
     "text": [
      "Directory 'train_separated_lobes' created\n"
     ]
    },
    {
     "ename": "AttributeError",
     "evalue": "module 'scipy.misc' has no attribute 'imread'",
     "output_type": "error",
     "traceback": [
      "\u001b[0;31m---------------------------------------------------------------------------\u001b[0m",
      "\u001b[0;31mAttributeError\u001b[0m                            Traceback (most recent call last)",
      "Input \u001b[0;32mIn [9]\u001b[0m, in \u001b[0;36m<module>\u001b[0;34m\u001b[0m\n\u001b[1;32m     26\u001b[0m \u001b[38;5;66;03m# Read the image\u001b[39;00m\n\u001b[1;32m     27\u001b[0m \u001b[38;5;28;01mfor\u001b[39;00m file \u001b[38;5;129;01min\u001b[39;00m train_list:\n\u001b[0;32m---> 28\u001b[0m     img \u001b[38;5;241m=\u001b[39m \u001b[43mmisc\u001b[49m\u001b[38;5;241;43m.\u001b[39;49m\u001b[43mimread\u001b[49m(file)\n\u001b[1;32m     29\u001b[0m     height, width \u001b[38;5;241m=\u001b[39m img\u001b[38;5;241m.\u001b[39mshape\n\u001b[1;32m     31\u001b[0m     \u001b[38;5;66;03m# Cut the image in half\u001b[39;00m\n",
      "\u001b[0;31mAttributeError\u001b[0m: module 'scipy.misc' has no attribute 'imread'"
     ]
    }
   ],
   "source": [
    "import os\n",
    "from scipy import misc\n",
    "\n",
    "\n",
    "#import training data \n",
    "parent = '/Users/diana/Documents/SUMMER2022/final-project-DeDe-Sunshine/all/train'\n",
    "parent_dir = '/Users/diana/Documents/SUMMER2022/final-project-DeDe-Sunshine/all'\n",
    "root = os.listdir(parent)\n",
    "# making new directory \n",
    "# mode\n",
    "mode = 0o666\n",
    "\n",
    "# Directory\n",
    "directory = \"train_separated_lobes\"\n",
    "\n",
    "# Path\n",
    "train_path = os.path.join(parent_dir, directory)\n",
    "\n",
    "# Create the directory\n",
    "# with mode 0o666\n",
    "os.mkdir(train_path, mode)\n",
    "print(\"Directory '%s' created\" %directory)\n",
    "\n",
    "#separate each image into 2 and store in new directory \n",
    "train_list = os.walk(parent)\n",
    "# Read the image\n",
    "for file in train_list:\n",
    "    img = misc.imread(file)\n",
    "    height, width = img.shape\n",
    "\n",
    "    # Cut the image in half\n",
    "    width_cutoff = width // 2\n",
    "    s1 = img[:, :width_cutoff]\n",
    "    s2 = img[:, width_cutoff:]\n",
    "\n",
    "    # Save each half\n",
    "    new_path = os.path.join(path, file)\n",
    "    misc.imsave(new_path, s1)\n",
    "    misc.imsave(new_path, s2)\n",
    "\n",
    "#\n"
   ]
  },
  {
   "cell_type": "code",
   "execution_count": 8,
   "id": "0c1cad00",
   "metadata": {},
   "outputs": [
    {
     "data": {
      "text/plain": [
       "'/Users/diana/Documents/SUMMER2022/final-project-DeDe-Sunshine/all/train_separated_lobes'"
      ]
     },
     "execution_count": 8,
     "metadata": {},
     "output_type": "execute_result"
    }
   ],
   "source": [
    "path"
   ]
  },
  {
   "cell_type": "code",
   "execution_count": 3,
   "id": "684d2867",
   "metadata": {},
   "outputs": [
    {
     "ename": "AttributeError",
     "evalue": "module 'scipy.misc' has no attribute 'imread'",
     "output_type": "error",
     "traceback": [
      "\u001b[0;31m---------------------------------------------------------------------------\u001b[0m",
      "\u001b[0;31mAttributeError\u001b[0m                            Traceback (most recent call last)",
      "Input \u001b[0;32mIn [3]\u001b[0m, in \u001b[0;36m<module>\u001b[0;34m\u001b[0m\n\u001b[1;32m      1\u001b[0m \u001b[38;5;28;01mfrom\u001b[39;00m \u001b[38;5;21;01mscipy\u001b[39;00m \u001b[38;5;28;01mimport\u001b[39;00m misc\n\u001b[1;32m      3\u001b[0m \u001b[38;5;66;03m# Read the image\u001b[39;00m\n\u001b[0;32m----> 4\u001b[0m img \u001b[38;5;241m=\u001b[39m \u001b[43mmisc\u001b[49m\u001b[38;5;241;43m.\u001b[39;49m\u001b[43mimread\u001b[49m(\u001b[38;5;124m\"\u001b[39m\u001b[38;5;124mface.png\u001b[39m\u001b[38;5;124m\"\u001b[39m)\n\u001b[1;32m      5\u001b[0m height, width \u001b[38;5;241m=\u001b[39m img\u001b[38;5;241m.\u001b[39mshape\n\u001b[1;32m      7\u001b[0m \u001b[38;5;66;03m# Cut the image in half\u001b[39;00m\n",
      "\u001b[0;31mAttributeError\u001b[0m: module 'scipy.misc' has no attribute 'imread'"
     ]
    }
   ],
   "source": [
    "from scipy import misc\n",
    "\n",
    "\n",
    "# Read the image\n",
    "img = misc.imread(\"face.png\")\n",
    "height, width = img.shape\n",
    "\n",
    "# Cut the image in half\n",
    "width_cutoff = width // 2\n",
    "s1 = img[:, :width_cutoff]\n",
    "s2 = img[:, width_cutoff:]\n",
    "\n",
    "# Save each half\n",
    "misc.imsave(\"face1.png\", s1)\n",
    "misc.imsave(\"face2.png\", s2)\n"
   ]
  },
  {
   "cell_type": "code",
   "execution_count": null,
   "id": "04809ff9",
   "metadata": {},
   "outputs": [],
   "source": []
  },
  {
   "cell_type": "code",
   "execution_count": 2,
   "id": "8b5e8cdd",
   "metadata": {},
   "outputs": [
    {
     "data": {
      "text/plain": [
       "'/Users/diana/Documents/SUMMER2022/final-project-DeDe-Sunshine'"
      ]
     },
     "execution_count": 2,
     "metadata": {},
     "output_type": "execute_result"
    }
   ],
   "source": [
    "for entry in root:\n",
    "    print(entry)\n",
    "    subdir_path = os.path.join(all_path, entry) #  create the absolute path of the subdir\n",
    "    if os.path.isdir(subdir_path):  # check if it is a folder\n",
    "        subdir_entries = os.listdir(subdir_path)  # get the content of the subdir\n",
    "        for subentry in subdir_entries:\n",
    "            subentry_path = os.path.join(subdir_path, subentry)  # absolute path of the subentry\n",
    "            # here you can check everything you want for example if the subentry has a specific name etc\n",
    "            #print(subentry_path)\n",
    "            #print(subdir_path)"
   ]
  }
 ],
 "metadata": {
  "kernelspec": {
   "display_name": "Python 3 (ipykernel)",
   "language": "python",
   "name": "python3"
  },
  "language_info": {
   "codemirror_mode": {
    "name": "ipython",
    "version": 3
   },
   "file_extension": ".py",
   "mimetype": "text/x-python",
   "name": "python",
   "nbconvert_exporter": "python",
   "pygments_lexer": "ipython3",
   "version": "3.10.0"
  }
 },
 "nbformat": 4,
 "nbformat_minor": 5
}
