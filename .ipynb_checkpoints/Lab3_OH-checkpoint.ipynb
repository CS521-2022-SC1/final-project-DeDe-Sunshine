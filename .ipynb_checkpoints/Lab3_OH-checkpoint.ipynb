{
 "cells": [
  {
   "cell_type": "markdown",
   "id": "bcbde208",
   "metadata": {},
   "source": [
    "string => \"msg\"  encode into binary ==> 86 (math with it)  binary string ==> \"101011010\"\n",
    "string => (((binary  new_bin )) => binary_string ==> new_bin_str of same len\n",
    "binary string 101011010  msg\n",
    "        random 110110111  KEY random generated   XOR\n",
    "        ___________________\n",
    "               011101101 cipher text \n",
    "               \n",
    "               new_bin   xOR ->cipher bin no way to reverse engineer \n",
    "               \n",
    "               "
   ]
  }
 ],
 "metadata": {
  "kernelspec": {
   "display_name": "Python 3 (ipykernel)",
   "language": "python",
   "name": "python3"
  },
  "language_info": {
   "codemirror_mode": {
    "name": "ipython",
    "version": 3
   },
   "file_extension": ".py",
   "mimetype": "text/x-python",
   "name": "python",
   "nbconvert_exporter": "python",
   "pygments_lexer": "ipython3",
   "version": "3.10.0"
  }
 },
 "nbformat": 4,
 "nbformat_minor": 5
}
