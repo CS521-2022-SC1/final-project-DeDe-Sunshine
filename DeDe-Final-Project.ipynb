{
 "cells": [
  {
   "cell_type": "markdown",
   "id": "ec5c7a51",
   "metadata": {},
   "source": [
    "Final Project \n",
    "\n",
    "Chest Xray classification\n",
    "\n",
    "Tasks   1. load data\n",
    "        2. separate lobes\n",
    "        3. data augmentatiom\n",
    "        4. Select a transfer learning network\n",
    "        5. augment last classification\n",
    "        6. run model\n",
    "        7. analysis PCA\n",
    "        "
   ]
  },
  {
   "cell_type": "markdown",
   "id": "ae672534",
   "metadata": {},
   "source": [
    "importing data and labels.  folder name is the label"
   ]
  },
  {
   "cell_type": "code",
   "execution_count": 17,
   "id": "ba16b620",
   "metadata": {},
   "outputs": [
    {
     "name": "stdout",
     "output_type": "stream",
     "text": [
      "Directory 'train_separated_lobes' created\n"
     ]
    },
    {
     "ename": "TypeError",
     "evalue": "join() argument must be str, bytes, or os.PathLike object, not 'tuple'",
     "output_type": "error",
     "traceback": [
      "\u001b[0;31m---------------------------------------------------------------------------\u001b[0m",
      "\u001b[0;31mTypeError\u001b[0m                                 Traceback (most recent call last)",
      "Input \u001b[0;32mIn [17]\u001b[0m, in \u001b[0;36m<module>\u001b[0;34m\u001b[0m\n\u001b[1;32m     35\u001b[0m [train_list\u001b[38;5;241m.\u001b[39mappend(image) \u001b[38;5;28;01mfor\u001b[39;00m image \u001b[38;5;129;01min\u001b[39;00m os\u001b[38;5;241m.\u001b[39mwalk(image_path)]\n\u001b[1;32m     37\u001b[0m \u001b[38;5;28;01mfor\u001b[39;00m item \u001b[38;5;129;01min\u001b[39;00m train_list:\n\u001b[1;32m     38\u001b[0m     \u001b[38;5;66;03m# Read the image\u001b[39;00m\n\u001b[0;32m---> 39\u001b[0m     image_file \u001b[38;5;241m=\u001b[39m \u001b[43mos\u001b[49m\u001b[38;5;241;43m.\u001b[39;49m\u001b[43mpath\u001b[49m\u001b[38;5;241;43m.\u001b[39;49m\u001b[43mjoin\u001b[49m\u001b[43m(\u001b[49m\u001b[43mimage_path\u001b[49m\u001b[43m,\u001b[49m\u001b[43mitem\u001b[49m\u001b[43m)\u001b[49m\n\u001b[1;32m     40\u001b[0m     img \u001b[38;5;241m=\u001b[39m imageio\u001b[38;5;241m.\u001b[39mimread(image_file)\n\u001b[1;32m     41\u001b[0m     height, width \u001b[38;5;241m=\u001b[39m img\u001b[38;5;241m.\u001b[39mshape\n",
      "File \u001b[0;32m~/opt/anaconda3/envs/SP22/lib/python3.10/posixpath.py:90\u001b[0m, in \u001b[0;36mjoin\u001b[0;34m(a, *p)\u001b[0m\n\u001b[1;32m     88\u001b[0m             path \u001b[38;5;241m+\u001b[39m\u001b[38;5;241m=\u001b[39m sep \u001b[38;5;241m+\u001b[39m b\n\u001b[1;32m     89\u001b[0m \u001b[38;5;28;01mexcept\u001b[39;00m (\u001b[38;5;167;01mTypeError\u001b[39;00m, \u001b[38;5;167;01mAttributeError\u001b[39;00m, \u001b[38;5;167;01mBytesWarning\u001b[39;00m):\n\u001b[0;32m---> 90\u001b[0m     \u001b[43mgenericpath\u001b[49m\u001b[38;5;241;43m.\u001b[39;49m\u001b[43m_check_arg_types\u001b[49m\u001b[43m(\u001b[49m\u001b[38;5;124;43m'\u001b[39;49m\u001b[38;5;124;43mjoin\u001b[39;49m\u001b[38;5;124;43m'\u001b[39;49m\u001b[43m,\u001b[49m\u001b[43m \u001b[49m\u001b[43ma\u001b[49m\u001b[43m,\u001b[49m\u001b[43m \u001b[49m\u001b[38;5;241;43m*\u001b[39;49m\u001b[43mp\u001b[49m\u001b[43m)\u001b[49m\n\u001b[1;32m     91\u001b[0m     \u001b[38;5;28;01mraise\u001b[39;00m\n\u001b[1;32m     92\u001b[0m \u001b[38;5;28;01mreturn\u001b[39;00m path\n",
      "File \u001b[0;32m~/opt/anaconda3/envs/SP22/lib/python3.10/genericpath.py:152\u001b[0m, in \u001b[0;36m_check_arg_types\u001b[0;34m(funcname, *args)\u001b[0m\n\u001b[1;32m    150\u001b[0m         hasbytes \u001b[38;5;241m=\u001b[39m \u001b[38;5;28;01mTrue\u001b[39;00m\n\u001b[1;32m    151\u001b[0m     \u001b[38;5;28;01melse\u001b[39;00m:\n\u001b[0;32m--> 152\u001b[0m         \u001b[38;5;28;01mraise\u001b[39;00m \u001b[38;5;167;01mTypeError\u001b[39;00m(\u001b[38;5;124mf\u001b[39m\u001b[38;5;124m'\u001b[39m\u001b[38;5;132;01m{\u001b[39;00mfuncname\u001b[38;5;132;01m}\u001b[39;00m\u001b[38;5;124m() argument must be str, bytes, or \u001b[39m\u001b[38;5;124m'\u001b[39m\n\u001b[1;32m    153\u001b[0m                         \u001b[38;5;124mf\u001b[39m\u001b[38;5;124m'\u001b[39m\u001b[38;5;124mos.PathLike object, not \u001b[39m\u001b[38;5;132;01m{\u001b[39;00ms\u001b[38;5;241m.\u001b[39m\u001b[38;5;18m__class__\u001b[39m\u001b[38;5;241m.\u001b[39m\u001b[38;5;18m__name__\u001b[39m\u001b[38;5;132;01m!r}\u001b[39;00m\u001b[38;5;124m'\u001b[39m) \u001b[38;5;28;01mfrom\u001b[39;00m \u001b[38;5;28mNone\u001b[39m\n\u001b[1;32m    154\u001b[0m \u001b[38;5;28;01mif\u001b[39;00m hasstr \u001b[38;5;129;01mand\u001b[39;00m hasbytes:\n\u001b[1;32m    155\u001b[0m     \u001b[38;5;28;01mraise\u001b[39;00m \u001b[38;5;167;01mTypeError\u001b[39;00m(\u001b[38;5;124m\"\u001b[39m\u001b[38;5;124mCan\u001b[39m\u001b[38;5;124m'\u001b[39m\u001b[38;5;124mt mix strings and bytes in path components\u001b[39m\u001b[38;5;124m\"\u001b[39m) \u001b[38;5;28;01mfrom\u001b[39;00m \u001b[38;5;28mNone\u001b[39m\n",
      "\u001b[0;31mTypeError\u001b[0m: join() argument must be str, bytes, or os.PathLike object, not 'tuple'"
     ]
    }
   ],
   "source": [
    "import os\n",
    "from scipy import misc\n",
    "import imageio\n",
    "\n",
    "\n",
    "#import training data \n",
    "parent = '/Users/diana/Documents/SUMMER2022/final-project-DeDe-Sunshine/all/train'\n",
    "parent_dir = '/Users/diana/Documents/SUMMER2022/final-project-DeDe-Sunshine/all'\n",
    "root = os.listdir(parent)\n",
    "# making new directory \n",
    "# mode\n",
    "mode = 0o666\n",
    "\n",
    "# Directory\n",
    "directory = \"train_separated_lobes\"\n",
    "\n",
    "# Path\n",
    "train_path = os.path.join(parent_dir, directory)\n",
    "\n",
    "# Create the directory\n",
    "# with mode 0o666\n",
    "os.mkdir(train_path, mode)\n",
    "print(\"Directory '%s' created\" %directory)\n",
    "\n",
    "#separate each image into 2 and store in new directory \n",
    "train_folder = []\n",
    "[train_folder.append(item) for item in os.listdir(parent)]\n",
    "\n",
    "# Read the image\n",
    "for folder in train_folder:\n",
    "    if not folder.startswith('.'):\n",
    "       #print(folder)\n",
    "        train_list = []\n",
    "        image_path = os.path.join(parent, folder)\n",
    "        [train_list.append(image) for image in os.walk(image_path)]\n",
    "        \n",
    "        for item in train_list:\n",
    "            # Read the image\n",
    "            image_file = os.path.join(image_path,item)\n",
    "            img = imageio.imread(image_file)\n",
    "            height, width = img.shape\n",
    "\n",
    "            # Cut the image in half\n",
    "            width_cutoff = width // 2\n",
    "            s1 = img[:, :width_cutoff]\n",
    "            s2 = img[:, width_cutoff:]\n",
    "\n",
    "            # Save each half\n",
    "            #misc.imsave(\"face1.png\", s1)\n",
    "            #misc.imsave(\"face2.png\", s2)\n",
    "\n"
   ]
  },
  {
   "cell_type": "code",
   "execution_count": 18,
   "id": "845607d6",
   "metadata": {},
   "outputs": [
    {
     "name": "stdout",
     "output_type": "stream",
     "text": [
      "[('/Users/diana/Documents/SUMMER2022/final-project-DeDe-Sunshine/all/train/pneumonia_vir', [], ['person935_virus_1597.jpeg', 'person97_virus_181.jpeg', 'person96_virus_179.jpeg', 'person88_virus_165.jpeg', 'person937_virus_1599.jpeg', 'person891_virus_1541.jpeg', 'person949_virus_1620.jpeg', 'person909_virus_1565.jpeg', 'person89_virus_168.jpeg', 'person952_virus_1623.jpeg', 'person940_virus_1607.jpeg', 'person950_virus_1621.jpeg', 'person927_virus_1584.jpeg', 'person924_virus_1581.jpeg', 'person926_virus_1583.jpeg', 'person900_virus_1554.jpeg', 'person88_virus_164.jpeg', 'person905_virus_1561.jpeg', 'person96_virus_178.jpeg', 'person907_virus_1563.jpeg', 'person931_virus_1592.jpeg', 'person97_virus_180.jpeg', 'person908_virus_1564.jpeg', 'person929_virus_1588.jpeg', 'person936_virus_1598.jpeg', 'person890_virus_1540.jpeg', 'person913_virus_1570.jpeg', 'person914_virus_1571.jpeg', 'person920_virus_1577.jpeg', 'person918_virus_1575.jpeg', 'person906_virus_1562.jpeg', 'person90_virus_169.jpeg', 'person901_virus_1555.jpeg', 'person929_virus_1589.jpeg', 'person941_virus_1610.jpeg', 'person92_virus_174.jpeg', 'person93_virus_175.jpeg', 'person955_virus_1627.jpeg', 'person940_virus_1602.jpeg', 'person938_virus_1600.jpeg', 'person894_virus_1546.jpeg', 'person90_virus_170.jpeg', 'person95_virus_177.jpeg', 'person896_virus_1548.jpeg', 'person94_virus_176.jpeg', 'person932_virus_1593.jpeg', 'person899_virus_1553.jpeg', 'person933_virus_1594.jpeg', 'person934_virus_1595.jpeg', 'person947_virus_1618.jpeg', 'person951_virus_1622.jpeg', 'person945_virus_1616.jpeg', 'person911_virus_1567.jpeg', 'person925_virus_1582.jpeg', 'person88_virus_167.jpeg', 'desktop.ini', 'person956_virus_1628.jpeg', 'person940_virus_1604.jpeg', 'person895_virus_1547.jpeg', 'person954_virus_1626.jpeg', 'person921_virus_1578.jpeg', 'person915_virus_1572.jpeg', 'person99_virus_183.jpeg', 'person98_virus_182.jpeg', 'person942_virus_1611.jpeg', 'person940_virus_1605.jpeg', 'person928_virus_1586.jpeg', 'person919_virus_1576.jpeg', 'person898_virus_1552.jpeg', 'person940_virus_1609.jpeg', 'person88_virus_166.jpeg'])]\n"
     ]
    }
   ],
   "source": [
    "print(train_list)"
   ]
  },
  {
   "cell_type": "code",
   "execution_count": 8,
   "id": "0c1cad00",
   "metadata": {},
   "outputs": [
    {
     "data": {
      "text/plain": [
       "'/Users/diana/Documents/SUMMER2022/final-project-DeDe-Sunshine/all/train_separated_lobes'"
      ]
     },
     "execution_count": 8,
     "metadata": {},
     "output_type": "execute_result"
    }
   ],
   "source": [
    "path"
   ]
  },
  {
   "cell_type": "code",
   "execution_count": 3,
   "id": "684d2867",
   "metadata": {},
   "outputs": [
    {
     "ename": "AttributeError",
     "evalue": "module 'scipy.misc' has no attribute 'imread'",
     "output_type": "error",
     "traceback": [
      "\u001b[0;31m---------------------------------------------------------------------------\u001b[0m",
      "\u001b[0;31mAttributeError\u001b[0m                            Traceback (most recent call last)",
      "Input \u001b[0;32mIn [3]\u001b[0m, in \u001b[0;36m<module>\u001b[0;34m\u001b[0m\n\u001b[1;32m      1\u001b[0m \u001b[38;5;28;01mfrom\u001b[39;00m \u001b[38;5;21;01mscipy\u001b[39;00m \u001b[38;5;28;01mimport\u001b[39;00m misc\n\u001b[1;32m      3\u001b[0m \u001b[38;5;66;03m# Read the image\u001b[39;00m\n\u001b[0;32m----> 4\u001b[0m img \u001b[38;5;241m=\u001b[39m \u001b[43mmisc\u001b[49m\u001b[38;5;241;43m.\u001b[39;49m\u001b[43mimread\u001b[49m(\u001b[38;5;124m\"\u001b[39m\u001b[38;5;124mface.png\u001b[39m\u001b[38;5;124m\"\u001b[39m)\n\u001b[1;32m      5\u001b[0m height, width \u001b[38;5;241m=\u001b[39m img\u001b[38;5;241m.\u001b[39mshape\n\u001b[1;32m      7\u001b[0m \u001b[38;5;66;03m# Cut the image in half\u001b[39;00m\n",
      "\u001b[0;31mAttributeError\u001b[0m: module 'scipy.misc' has no attribute 'imread'"
     ]
    }
   ],
   "source": [
    "from scipy import misc\n",
    "\n",
    "\n",
    "# Read the image\n",
    "img = misc.imread(\"face.png\")\n",
    "height, width = img.shape\n",
    "\n",
    "# Cut the image in half\n",
    "width_cutoff = width // 2\n",
    "s1 = img[:, :width_cutoff]\n",
    "s2 = img[:, width_cutoff:]\n",
    "\n",
    "# Save each half\n",
    "misc.imsave(\"face1.png\", s1)\n",
    "misc.imsave(\"face2.png\", s2)\n"
   ]
  },
  {
   "cell_type": "code",
   "execution_count": null,
   "id": "04809ff9",
   "metadata": {},
   "outputs": [],
   "source": []
  },
  {
   "cell_type": "code",
   "execution_count": 2,
   "id": "8b5e8cdd",
   "metadata": {},
   "outputs": [
    {
     "data": {
      "text/plain": [
       "'/Users/diana/Documents/SUMMER2022/final-project-DeDe-Sunshine'"
      ]
     },
     "execution_count": 2,
     "metadata": {},
     "output_type": "execute_result"
    }
   ],
   "source": [
    "for entry in root:\n",
    "    print(entry)\n",
    "    subdir_path = os.path.join(all_path, entry) #  create the absolute path of the subdir\n",
    "    if os.path.isdir(subdir_path):  # check if it is a folder\n",
    "        subdir_entries = os.listdir(subdir_path)  # get the content of the subdir\n",
    "        for subentry in subdir_entries:\n",
    "            subentry_path = os.path.join(subdir_path, subentry)  # absolute path of the subentry\n",
    "            # here you can check everything you want for example if the subentry has a specific name etc\n",
    "            #print(subentry_path)\n",
    "            #print(subdir_path)"
   ]
  }
 ],
 "metadata": {
  "kernelspec": {
   "display_name": "Python 3 (ipykernel)",
   "language": "python",
   "name": "python3"
  },
  "language_info": {
   "codemirror_mode": {
    "name": "ipython",
    "version": 3
   },
   "file_extension": ".py",
   "mimetype": "text/x-python",
   "name": "python",
   "nbconvert_exporter": "python",
   "pygments_lexer": "ipython3",
   "version": "3.10.0"
  }
 },
 "nbformat": 4,
 "nbformat_minor": 5
}
